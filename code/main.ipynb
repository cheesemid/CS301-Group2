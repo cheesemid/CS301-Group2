{
 "cells": [
  {
   "cell_type": "code",
   "execution_count": 2,
   "source": [
    "import numpy as np\n",
    "import pandas as pd\n",
    "import tensorflow as tf\n",
    "from tensorflow.keras.preprocessing.image import ImageDataGenerator\n",
    "import os\n",
    "import sys\n",
    "import random \n",
    "from cv2 import cv2\n",
    "import imutils\n",
    "import random\n",
    "import matplotlib.pyplot as plt\n",
    "import seaborn as sns\n",
    "from sklearn.preprocessing import LabelBinarizer\n",
    "from tensorflow.keras import utils # from tensorflow.keras.utils import np_utils\n",
    "from tensorflow.keras.models import Sequential\n",
    "from tensorflow.keras import optimizers\n",
    "from sklearn.preprocessing import LabelBinarizer\n",
    "from tensorflow.keras import backend as K\n",
    "from tensorflow.keras.layers import Dense, Activation, Flatten, Dense,MaxPooling2D, Dropout\n",
    "from tensorflow.keras.layers import Conv2D, MaxPooling2D, BatchNormalization"
   ],
   "outputs": [
    {
     "output_type": "stream",
     "name": "stderr",
     "text": [
      "/home/zed/.local/lib/python3.6/site-packages/tensorflow/python/framework/dtypes.py:516: FutureWarning: Passing (type, 1) or '1type' as a synonym of type is deprecated; in a future version of numpy, it will be understood as (type, (1,)) / '(1,)type'.\n",
      "  _np_qint8 = np.dtype([(\"qint8\", np.int8, 1)])\n",
      "/home/zed/.local/lib/python3.6/site-packages/tensorflow/python/framework/dtypes.py:517: FutureWarning: Passing (type, 1) or '1type' as a synonym of type is deprecated; in a future version of numpy, it will be understood as (type, (1,)) / '(1,)type'.\n",
      "  _np_quint8 = np.dtype([(\"quint8\", np.uint8, 1)])\n",
      "/home/zed/.local/lib/python3.6/site-packages/tensorflow/python/framework/dtypes.py:518: FutureWarning: Passing (type, 1) or '1type' as a synonym of type is deprecated; in a future version of numpy, it will be understood as (type, (1,)) / '(1,)type'.\n",
      "  _np_qint16 = np.dtype([(\"qint16\", np.int16, 1)])\n",
      "/home/zed/.local/lib/python3.6/site-packages/tensorflow/python/framework/dtypes.py:519: FutureWarning: Passing (type, 1) or '1type' as a synonym of type is deprecated; in a future version of numpy, it will be understood as (type, (1,)) / '(1,)type'.\n",
      "  _np_quint16 = np.dtype([(\"quint16\", np.uint16, 1)])\n",
      "/home/zed/.local/lib/python3.6/site-packages/tensorflow/python/framework/dtypes.py:520: FutureWarning: Passing (type, 1) or '1type' as a synonym of type is deprecated; in a future version of numpy, it will be understood as (type, (1,)) / '(1,)type'.\n",
      "  _np_qint32 = np.dtype([(\"qint32\", np.int32, 1)])\n",
      "/home/zed/.local/lib/python3.6/site-packages/tensorflow/python/framework/dtypes.py:525: FutureWarning: Passing (type, 1) or '1type' as a synonym of type is deprecated; in a future version of numpy, it will be understood as (type, (1,)) / '(1,)type'.\n",
      "  np_resource = np.dtype([(\"resource\", np.ubyte, 1)])\n",
      "/home/zed/.local/lib/python3.6/site-packages/tensorboard/compat/tensorflow_stub/dtypes.py:541: FutureWarning: Passing (type, 1) or '1type' as a synonym of type is deprecated; in a future version of numpy, it will be understood as (type, (1,)) / '(1,)type'.\n",
      "  _np_qint8 = np.dtype([(\"qint8\", np.int8, 1)])\n",
      "/home/zed/.local/lib/python3.6/site-packages/tensorboard/compat/tensorflow_stub/dtypes.py:542: FutureWarning: Passing (type, 1) or '1type' as a synonym of type is deprecated; in a future version of numpy, it will be understood as (type, (1,)) / '(1,)type'.\n",
      "  _np_quint8 = np.dtype([(\"quint8\", np.uint8, 1)])\n",
      "/home/zed/.local/lib/python3.6/site-packages/tensorboard/compat/tensorflow_stub/dtypes.py:543: FutureWarning: Passing (type, 1) or '1type' as a synonym of type is deprecated; in a future version of numpy, it will be understood as (type, (1,)) / '(1,)type'.\n",
      "  _np_qint16 = np.dtype([(\"qint16\", np.int16, 1)])\n",
      "/home/zed/.local/lib/python3.6/site-packages/tensorboard/compat/tensorflow_stub/dtypes.py:544: FutureWarning: Passing (type, 1) or '1type' as a synonym of type is deprecated; in a future version of numpy, it will be understood as (type, (1,)) / '(1,)type'.\n",
      "  _np_quint16 = np.dtype([(\"quint16\", np.uint16, 1)])\n",
      "/home/zed/.local/lib/python3.6/site-packages/tensorboard/compat/tensorflow_stub/dtypes.py:545: FutureWarning: Passing (type, 1) or '1type' as a synonym of type is deprecated; in a future version of numpy, it will be understood as (type, (1,)) / '(1,)type'.\n",
      "  _np_qint32 = np.dtype([(\"qint32\", np.int32, 1)])\n",
      "/home/zed/.local/lib/python3.6/site-packages/tensorboard/compat/tensorflow_stub/dtypes.py:550: FutureWarning: Passing (type, 1) or '1type' as a synonym of type is deprecated; in a future version of numpy, it will be understood as (type, (1,)) / '(1,)type'.\n",
      "  np_resource = np.dtype([(\"resource\", np.ubyte, 1)])\n"
     ]
    }
   ],
   "metadata": {}
  },
  {
   "cell_type": "code",
   "execution_count": 63,
   "source": [
    "model = None"
   ],
   "outputs": [],
   "metadata": {}
  },
  {
   "cell_type": "code",
   "execution_count": 4,
   "source": [
    "dataset_path = \"mntram/dataset\""
   ],
   "outputs": [],
   "metadata": {}
  },
  {
   "cell_type": "code",
   "execution_count": 5,
   "source": [
    "train = []\n",
    "validation = []"
   ],
   "outputs": [],
   "metadata": {}
  },
  {
   "cell_type": "code",
   "execution_count": 64,
   "source": [
    "def init_model():\n",
    "    global model\n",
    "\n",
    "    model = Sequential()\n",
    "\n",
    "    model.add(Conv2D(32, (3, 3), padding = \"same\", activation='relu', input_shape=(32,32,1)))\n",
    "    model.add(MaxPooling2D(pool_size=(2,2)))\n",
    "    model.add(Conv2D(64, (3, 3), activation='relu'))\n",
    "    model.add(MaxPooling2D(pool_size=(2,2)))\n",
    "    model.add(Conv2D(128, (3, 3), activation='relu'))\n",
    "    model.add(MaxPooling2D(pool_size=(2,2)))\n",
    "    model.add(Dropout(0.25))\n",
    "    \n",
    "    model.add(Flatten())\n",
    "    model.add(Dense(128, activation='relu'))\n",
    "    model.add(Dropout(0.2))\n",
    "    model.add(Dense(39, activation='softmax'))\n",
    "\n",
    "    model.summary()\n",
    "    model.compile(loss='categorical_crossentropy', optimizer=\"adam\",metrics=['accuracy'])\n",
    "\n",
    "init_model()"
   ],
   "outputs": [
    {
     "output_type": "stream",
     "name": "stdout",
     "text": [
      "Model: \"sequential_1\"\n",
      "_________________________________________________________________\n",
      "Layer (type)                 Output Shape              Param #   \n",
      "=================================================================\n",
      "conv2d_3 (Conv2D)            (None, 32, 32, 32)        320       \n",
      "_________________________________________________________________\n",
      "max_pooling2d_3 (MaxPooling2 (None, 16, 16, 32)        0         \n",
      "_________________________________________________________________\n",
      "conv2d_4 (Conv2D)            (None, 14, 14, 64)        18496     \n",
      "_________________________________________________________________\n",
      "max_pooling2d_4 (MaxPooling2 (None, 7, 7, 64)          0         \n",
      "_________________________________________________________________\n",
      "conv2d_5 (Conv2D)            (None, 5, 5, 128)         73856     \n",
      "_________________________________________________________________\n",
      "max_pooling2d_5 (MaxPooling2 (None, 2, 2, 128)         0         \n",
      "_________________________________________________________________\n",
      "dropout_2 (Dropout)          (None, 2, 2, 128)         0         \n",
      "_________________________________________________________________\n",
      "flatten_1 (Flatten)          (None, 512)               0         \n",
      "_________________________________________________________________\n",
      "dense_2 (Dense)              (None, 128)               65664     \n",
      "_________________________________________________________________\n",
      "dropout_3 (Dropout)          (None, 128)               0         \n",
      "_________________________________________________________________\n",
      "dense_3 (Dense)              (None, 39)                5031      \n",
      "=================================================================\n",
      "Total params: 163,367\n",
      "Trainable params: 163,367\n",
      "Non-trainable params: 0\n",
      "_________________________________________________________________\n"
     ]
    }
   ],
   "metadata": {}
  },
  {
   "cell_type": "code",
   "execution_count": 66,
   "source": [
    "def import_dataset():\n",
    "    # Load Train Dataset\n",
    "    for letter in os.listdir(os.path.join(dataset_path, \"Train\")):\n",
    "        print(f\"Train Dataset: Loading Letter {letter}\")\n",
    "        for image_path in os.listdir(os.path.join(dataset_path, \"Train\", letter)):\n",
    "            img = cv2.imread(os.path.join(dataset_path, \"Train\", letter, image_path), 0)\n",
    "            img = cv2.resize(img,(32,32))\n",
    "            train.append((img, letter))\n",
    "\n",
    "    # Load Validation Dataset\n",
    "    for letter in os.listdir(os.path.join(dataset_path, \"Validation\")):\n",
    "        print(f\"Validation Dataset: Loading Letter {letter}\")\n",
    "        for image_path in os.listdir(os.path.join(dataset_path, \"Validation\", letter)):\n",
    "            img = cv2.imread(os.path.join(dataset_path, \"Validation\", letter, image_path), 0)\n",
    "            img = cv2.resize(img,(32,32))\n",
    "            validation.append((img, letter))\n",
    "\n",
    "    print(\"Shuffling\")\n",
    "    random.shuffle(train)\n",
    "    random.shuffle(validation)"
   ],
   "outputs": [],
   "metadata": {}
  },
  {
   "cell_type": "code",
   "execution_count": 74,
   "source": [
    "def save_model(path):\n",
    "    # tf.keras.models.save_model(model, path, overwrite=True, include_optimizer=True, save_format='h5py')\n",
    "    model.save(path)\n",
    "\n",
    "def load_model(path):\n",
    "    global model\n",
    "    # model = tf.keras.models.load_model(path, custom_objects=None, compile=True)\n",
    "    model = tf.keras.models.load_model(path)\n",
    "\n",
    "# load_model(\"models/model_1_3e_quarter.mdl\")\n",
    "# save_model(\"models/model_3_10e_all.mdl\")"
   ],
   "outputs": [],
   "metadata": {}
  },
  {
   "cell_type": "code",
   "execution_count": 67,
   "source": [
    "# def train_model():\n",
    "if model == None:\n",
    "    init_model()\n",
    "if train == []:\n",
    "    import_dataset()\n",
    "\n",
    "train_X = [x[0] for x in train[:int(len(train))]]\n",
    "train_Y = [x[1] for x in train[:int(len(train))]]\n",
    "\n",
    "val_X = [x[0] for x in validation[:int(len(validation))]]\n",
    "val_Y = [x[1] for x in validation[:int(len(validation))]]\n",
    "\n",
    "#LB\n",
    "LB = LabelBinarizer()\n",
    "train_Y = LB.fit_transform(train_Y)\n",
    "val_Y = LB.fit_transform(val_Y)\n",
    "\n",
    "train_X = np.array(train_X)/255.0\n",
    "train_X = train_X.reshape(-1,32,32,1)\n",
    "train_Y = np.array(train_Y)\n",
    "\n",
    "val_X = np.array(val_X)/255.0\n",
    "val_X = val_X.reshape(-1,32,32,1)\n",
    "val_Y = np.array(val_Y)\n",
    "\n",
    "    \n",
    "history = model.fit(train_X,train_Y, epochs=10, batch_size=32, validation_data = (val_X, val_Y),  verbose=1)\n",
    "\n",
    "\n",
    "\n",
    "# train_model()"
   ],
   "outputs": [
    {
     "output_type": "stream",
     "name": "stdout",
     "text": [
      "Train on 834036 samples, validate on 22524 samples\n",
      "Epoch 1/10\n",
      "834036/834036 [==============================] - 537s 644us/sample - loss: 0.2895 - acc: 0.9081 - val_loss: 0.1885 - val_acc: 0.9410\n",
      "Epoch 2/10\n",
      "834036/834036 [==============================] - 536s 642us/sample - loss: 0.1993 - acc: 0.9346 - val_loss: 0.1944 - val_acc: 0.9380\n",
      "Epoch 3/10\n",
      "834036/834036 [==============================] - 524s 628us/sample - loss: 0.1881 - acc: 0.9378 - val_loss: 0.1718 - val_acc: 0.9464\n",
      "Epoch 4/10\n",
      "834036/834036 [==============================] - 519s 622us/sample - loss: 0.1834 - acc: 0.9391 - val_loss: 0.1771 - val_acc: 0.9475\n",
      "Epoch 5/10\n",
      "834036/834036 [==============================] - 540s 648us/sample - loss: 0.1809 - acc: 0.9399 - val_loss: 0.1713 - val_acc: 0.9490\n",
      "Epoch 6/10\n",
      "834036/834036 [==============================] - 552s 661us/sample - loss: 0.1796 - acc: 0.9405 - val_loss: 0.1717 - val_acc: 0.9477\n",
      "Epoch 7/10\n",
      "834036/834036 [==============================] - 551s 660us/sample - loss: 0.1786 - acc: 0.9408 - val_loss: 0.1684 - val_acc: 0.9474\n",
      "Epoch 8/10\n",
      "834036/834036 [==============================] - 550s 660us/sample - loss: 0.1782 - acc: 0.9410 - val_loss: 0.1686 - val_acc: 0.9481\n",
      "Epoch 9/10\n",
      "834036/834036 [==============================] - 563s 675us/sample - loss: 0.1774 - acc: 0.9413 - val_loss: 0.1745 - val_acc: 0.9489\n",
      "Epoch 10/10\n",
      "834036/834036 [==============================] - 558s 669us/sample - loss: 0.1782 - acc: 0.9412 - val_loss: 0.1650 - val_acc: 0.9477\n"
     ]
    }
   ],
   "metadata": {}
  },
  {
   "cell_type": "code",
   "execution_count": 54,
   "source": [
    "def takeSecond(elem):\n",
    "    return elem[1]\n",
    "\n",
    "def split_by_letter(img):\n",
    "    cropped_imgs = []\n",
    "    ret,thresh = cv2.threshold(img, 127, 255, cv2.THRESH_BINARY_INV)\n",
    "\n",
    "    contours = cv2.findContours(thresh, cv2.RETR_EXTERNAL, cv2.CHAIN_APPROX_SIMPLE)\n",
    "    contours = imutils.grab_contours(contours)\n",
    "\n",
    "    # for c in contours:\n",
    "    #     (x, y, w, h) = cv2.boundingRect(c)\n",
    "    #     cv2.rectangle(img, (x, y), (x + w, y + h), (0, 255, 0), 2)\n",
    "    # plt.imshow(img)\n",
    "\n",
    "    # print(contours)\n",
    "\n",
    "    for c in contours:\n",
    "        x, y, w, h = cv2.boundingRect(c)\n",
    "        cropped = img[y-5:y+h+5, x-5:x+w+5]\n",
    "        if cropped.size <= 5:\n",
    "            continue\n",
    "        cropped_imgs.append((cropped, x))\n",
    "\n",
    "    cropped_imgs.sort(key=takeSecond)\n",
    "\n",
    "    return [x[0] for x in cropped_imgs]\n"
   ],
   "outputs": [],
   "metadata": {}
  },
  {
   "cell_type": "code",
   "execution_count": 73,
   "source": [
    "def eval_letter(float_img):\n",
    "    ypred = model.predict(float_img)\n",
    "    ypred = LB.inverse_transform(ypred)\n",
    "    return ypred[0]\n",
    "\n",
    "def evaluate(imgpath, single_letter=False):\n",
    "    image = cv2.imread(imgpath, 0)\n",
    "\n",
    "    if single_letter:\n",
    "        resized = cv2.resize(image, (32, 32)) #interpolation = cv2.INTER_CUBIC\n",
    "\n",
    "        resized = resized.astype(\"float32\") / 255.0\n",
    "        resized = resized.reshape(1,32,32,1)\n",
    "        \n",
    "        print(eval_letter(resized))\n",
    "\n",
    "    cropped = split_by_letter(image)\n",
    "\n",
    "    output = []\n",
    "\n",
    "    for i in cropped:\n",
    "        formatted = cv2.resize(i, (32, 32), interpolation = cv2.INTER_CUBIC)\n",
    "        formatted = formatted.astype(\"float32\") / 255.0\n",
    "        formatted = formatted.reshape(1,32,32,1)\n",
    "        output.append(eval_letter(formatted))\n",
    "\n",
    "    plt.imshow(image)\n",
    "    print(\"\".join(output))\n",
    "\n",
    "    \n",
    "\n",
    "# evaluate(\"mntram/dataset/Validation/R/_1_73.jpg\", single_letter=False)\n",
    "# evaluate(\"hello-modified.jpg\", single_letter=False)\n",
    "# evaluate(\"TRAIN_00003.jpg\", single_letter=False)\n",
    "evaluate(\"TEST_0007.jpg\", single_letter=False)"
   ],
   "outputs": [
    {
     "output_type": "stream",
     "name": "stdout",
     "text": [
      "L@@@1D@@D@@\n"
     ]
    },
    {
     "output_type": "display_data",
     "data": {
      "image/png": "[encoded data removed]",
      "text/plain": [
       "<Figure size 432x288 with 1 Axes>"
      ]
     },
     "metadata": {
      "needs_background": "light"
     }
    }
   ],
   "metadata": {}
  },
  {
   "cell_type": "code",
   "execution_count": 12,
   "source": [
    "def main():\n",
    "    if len(sys.argv) < 2:\n",
    "        print(\"Use command line argument\")\n",
    "        exit(0)\n",
    "\n",
    "    if sys.argv[1].lower() == \"train\":\n",
    "        train_model()\n",
    "    elif sys.argv[1].lower() == \"eval\":\n",
    "        evaluate()\n",
    "    else:\n",
    "        print(\"Command not recognized\")\n",
    "        exit(0)"
   ],
   "outputs": [],
   "metadata": {}
  },
  {
   "cell_type": "code",
   "execution_count": 69,
   "source": [
    "plt.plot(history.history['acc'])\n",
    "plt.plot(history.history['val_acc'])\n",
    "plt.title('Training Accuracy vs Validation Accuracy')\n",
    "plt.ylabel('Accuracy')\n",
    "plt.xlabel('Epoch')\n",
    "plt.legend(['Train', 'Validation'], loc='upper left')\n",
    "plt.show()"
   ],
   "outputs": [
    {
     "output_type": "display_data",
     "data": {
      "image/png": "[encoded data removed]",
      "text/plain": [
       "<Figure size 432x288 with 1 Axes>"
      ]
     },
     "metadata": {
      "needs_background": "light"
     }
    }
   ],
   "metadata": {}
  },
  {
   "cell_type": "code",
   "execution_count": 70,
   "source": [
    "plt.plot(history.history['loss'])\n",
    "plt.plot(history.history['val_loss'])\n",
    "plt.title('Training Loss vs Validation Loss')\n",
    "plt.ylabel('Loss')\n",
    "plt.xlabel('Epoch')\n",
    "plt.legend(['Train', 'Validation'], loc='upper left')\n",
    "plt.show()"
   ],
   "outputs": [
    {
     "output_type": "display_data",
     "data": {
      "image/png": "[encoded data removed]",
      "text/plain": [
       "<Figure size 432x288 with 1 Axes>"
      ]
     },
     "metadata": {
      "needs_background": "light"
     }
    }
   ],
   "metadata": {}
  }
 ],
 "metadata": {
  "orig_nbformat": 4,
  "language_info": {
   "name": "python",
   "version": "3.6.9",
   "mimetype": "text/x-python",
   "codemirror_mode": {
    "name": "ipython",
    "version": 3
   },
   "pygments_lexer": "ipython3",
   "nbconvert_exporter": "python",
   "file_extension": ".py"
  },
  "kernelspec": {
   "name": "python3",
   "display_name": "Python 3.6.9 64-bit"
  },
  "interpreter": {
   "hash": "31f2aee4e71d21fbe5cf8b01ff0e069b9275f58929596ceb00d14d90e3e16cd6"
  }
 },
 "nbformat": 4,
 "nbformat_minor": 2
}